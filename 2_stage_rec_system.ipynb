{
 "cells": [
  {
   "cell_type": "code",
   "execution_count": 26,
   "metadata": {},
   "outputs": [],
   "source": [
    "import pandas as pd\n",
    "import numpy as np\n",
    "import matplotlib.pyplot as plt\n",
    "import seaborn as sns\n",
    "import warnings\n",
    "from sklearn.model_selection import TimeSeriesSplit\n",
    "%matplotlib inline\n",
    "\n",
    "from scipy.sparse import csr_matrix, coo_matrix\n",
    "\n",
    "from implicit.als import AlternatingLeastSquares\n",
    "from implicit.nearest_neighbours import bm25_weight, tfidf_weight, CosineRecommender, ItemItemRecommender\n",
    "\n",
    "from lightfm import LightFM\n",
    "from lightfm.evaluation import precision_at_k, recall_at_k\n",
    "\n",
    "from lightgbm import LGBMClassifier\n",
    "\n",
    "from sklearn.manifold import TSNE\n",
    "from sklearn.decomposition import PCA\n",
    "\n",
    "import import_ipynb\n",
    "from src.metrics import *\n",
    "from src.utils import *\n",
    "from src.recommenders import *"
   ]
  },
  {
   "cell_type": "code",
   "execution_count": 27,
   "metadata": {},
   "outputs": [
    {
     "name": "stdout",
     "output_type": "stream",
     "text": [
      "Wall time: 3.99 s\n"
     ]
    }
   ],
   "source": [
    "%%time\n",
    "\n",
    "data = pd.read_csv('data/retail_train.csv')\n",
    "item_features = pd.read_csv('data/product.csv')\n",
    "user_features = pd.read_csv('data/hh_demographic.csv')\n",
    "\n",
    "# column processing\n",
    "item_features.columns = [col.lower() for col in item_features.columns]\n",
    "user_features.columns = [col.lower() for col in user_features.columns]\n",
    "\n",
    "item_features.rename(columns={'product_id': 'item_id'}, inplace=True)\n",
    "user_features.rename(columns={'household_key': 'user_id'}, inplace=True)"
   ]
  },
  {
   "cell_type": "code",
   "execution_count": 28,
   "metadata": {},
   "outputs": [
    {
     "data": {
      "text/html": [
       "<div>\n",
       "<style scoped>\n",
       "    .dataframe tbody tr th:only-of-type {\n",
       "        vertical-align: middle;\n",
       "    }\n",
       "\n",
       "    .dataframe tbody tr th {\n",
       "        vertical-align: top;\n",
       "    }\n",
       "\n",
       "    .dataframe thead th {\n",
       "        text-align: right;\n",
       "    }\n",
       "</style>\n",
       "<table border=\"1\" class=\"dataframe\">\n",
       "  <thead>\n",
       "    <tr style=\"text-align: right;\">\n",
       "      <th></th>\n",
       "      <th>user_id</th>\n",
       "      <th>basket_id</th>\n",
       "      <th>day</th>\n",
       "      <th>item_id</th>\n",
       "      <th>quantity</th>\n",
       "      <th>sales_value</th>\n",
       "      <th>store_id</th>\n",
       "      <th>retail_disc</th>\n",
       "      <th>trans_time</th>\n",
       "      <th>week_no</th>\n",
       "      <th>coupon_disc</th>\n",
       "      <th>coupon_match_disc</th>\n",
       "    </tr>\n",
       "  </thead>\n",
       "  <tbody>\n",
       "    <tr>\n",
       "      <th>0</th>\n",
       "      <td>2375</td>\n",
       "      <td>26984851472</td>\n",
       "      <td>1</td>\n",
       "      <td>1004906</td>\n",
       "      <td>1</td>\n",
       "      <td>1.39</td>\n",
       "      <td>364</td>\n",
       "      <td>-0.6</td>\n",
       "      <td>1631</td>\n",
       "      <td>1</td>\n",
       "      <td>0.0</td>\n",
       "      <td>0.0</td>\n",
       "    </tr>\n",
       "    <tr>\n",
       "      <th>1</th>\n",
       "      <td>2375</td>\n",
       "      <td>26984851472</td>\n",
       "      <td>1</td>\n",
       "      <td>1033142</td>\n",
       "      <td>1</td>\n",
       "      <td>0.82</td>\n",
       "      <td>364</td>\n",
       "      <td>0.0</td>\n",
       "      <td>1631</td>\n",
       "      <td>1</td>\n",
       "      <td>0.0</td>\n",
       "      <td>0.0</td>\n",
       "    </tr>\n",
       "    <tr>\n",
       "      <th>2</th>\n",
       "      <td>2375</td>\n",
       "      <td>26984851472</td>\n",
       "      <td>1</td>\n",
       "      <td>1036325</td>\n",
       "      <td>1</td>\n",
       "      <td>0.99</td>\n",
       "      <td>364</td>\n",
       "      <td>-0.3</td>\n",
       "      <td>1631</td>\n",
       "      <td>1</td>\n",
       "      <td>0.0</td>\n",
       "      <td>0.0</td>\n",
       "    </tr>\n",
       "  </tbody>\n",
       "</table>\n",
       "</div>"
      ],
      "text/plain": [
       "   user_id    basket_id  day  item_id  quantity  sales_value  store_id  \\\n",
       "0     2375  26984851472    1  1004906         1         1.39       364   \n",
       "1     2375  26984851472    1  1033142         1         0.82       364   \n",
       "2     2375  26984851472    1  1036325         1         0.99       364   \n",
       "\n",
       "   retail_disc  trans_time  week_no  coupon_disc  coupon_match_disc  \n",
       "0         -0.6        1631        1          0.0                0.0  \n",
       "1          0.0        1631        1          0.0                0.0  \n",
       "2         -0.3        1631        1          0.0                0.0  "
      ]
     },
     "execution_count": 28,
     "metadata": {},
     "output_type": "execute_result"
    }
   ],
   "source": [
    "data.head(3)"
   ]
  },
  {
   "cell_type": "code",
   "execution_count": 29,
   "metadata": {},
   "outputs": [
    {
     "data": {
      "text/html": [
       "<div>\n",
       "<style scoped>\n",
       "    .dataframe tbody tr th:only-of-type {\n",
       "        vertical-align: middle;\n",
       "    }\n",
       "\n",
       "    .dataframe tbody tr th {\n",
       "        vertical-align: top;\n",
       "    }\n",
       "\n",
       "    .dataframe thead th {\n",
       "        text-align: right;\n",
       "    }\n",
       "</style>\n",
       "<table border=\"1\" class=\"dataframe\">\n",
       "  <thead>\n",
       "    <tr style=\"text-align: right;\">\n",
       "      <th></th>\n",
       "      <th>item_id</th>\n",
       "      <th>manufacturer</th>\n",
       "      <th>department</th>\n",
       "      <th>brand</th>\n",
       "      <th>commodity_desc</th>\n",
       "      <th>sub_commodity_desc</th>\n",
       "      <th>curr_size_of_product</th>\n",
       "    </tr>\n",
       "  </thead>\n",
       "  <tbody>\n",
       "    <tr>\n",
       "      <th>0</th>\n",
       "      <td>25671</td>\n",
       "      <td>2</td>\n",
       "      <td>GROCERY</td>\n",
       "      <td>National</td>\n",
       "      <td>FRZN ICE</td>\n",
       "      <td>ICE - CRUSHED/CUBED</td>\n",
       "      <td>22 LB</td>\n",
       "    </tr>\n",
       "    <tr>\n",
       "      <th>1</th>\n",
       "      <td>26081</td>\n",
       "      <td>2</td>\n",
       "      <td>MISC. TRANS.</td>\n",
       "      <td>National</td>\n",
       "      <td>NO COMMODITY DESCRIPTION</td>\n",
       "      <td>NO SUBCOMMODITY DESCRIPTION</td>\n",
       "      <td></td>\n",
       "    </tr>\n",
       "    <tr>\n",
       "      <th>2</th>\n",
       "      <td>26093</td>\n",
       "      <td>69</td>\n",
       "      <td>PASTRY</td>\n",
       "      <td>Private</td>\n",
       "      <td>BREAD</td>\n",
       "      <td>BREAD:ITALIAN/FRENCH</td>\n",
       "      <td></td>\n",
       "    </tr>\n",
       "  </tbody>\n",
       "</table>\n",
       "</div>"
      ],
      "text/plain": [
       "   item_id  manufacturer    department     brand            commodity_desc  \\\n",
       "0    25671             2       GROCERY  National                  FRZN ICE   \n",
       "1    26081             2  MISC. TRANS.  National  NO COMMODITY DESCRIPTION   \n",
       "2    26093            69        PASTRY   Private                     BREAD   \n",
       "\n",
       "            sub_commodity_desc curr_size_of_product  \n",
       "0          ICE - CRUSHED/CUBED                22 LB  \n",
       "1  NO SUBCOMMODITY DESCRIPTION                       \n",
       "2         BREAD:ITALIAN/FRENCH                       "
      ]
     },
     "execution_count": 29,
     "metadata": {},
     "output_type": "execute_result"
    }
   ],
   "source": [
    "item_features.head(3)"
   ]
  },
  {
   "cell_type": "code",
   "execution_count": 30,
   "metadata": {},
   "outputs": [
    {
     "data": {
      "text/html": [
       "<div>\n",
       "<style scoped>\n",
       "    .dataframe tbody tr th:only-of-type {\n",
       "        vertical-align: middle;\n",
       "    }\n",
       "\n",
       "    .dataframe tbody tr th {\n",
       "        vertical-align: top;\n",
       "    }\n",
       "\n",
       "    .dataframe thead th {\n",
       "        text-align: right;\n",
       "    }\n",
       "</style>\n",
       "<table border=\"1\" class=\"dataframe\">\n",
       "  <thead>\n",
       "    <tr style=\"text-align: right;\">\n",
       "      <th></th>\n",
       "      <th>age_desc</th>\n",
       "      <th>marital_status_code</th>\n",
       "      <th>income_desc</th>\n",
       "      <th>homeowner_desc</th>\n",
       "      <th>hh_comp_desc</th>\n",
       "      <th>household_size_desc</th>\n",
       "      <th>kid_category_desc</th>\n",
       "      <th>user_id</th>\n",
       "    </tr>\n",
       "  </thead>\n",
       "  <tbody>\n",
       "    <tr>\n",
       "      <th>0</th>\n",
       "      <td>65+</td>\n",
       "      <td>A</td>\n",
       "      <td>35-49K</td>\n",
       "      <td>Homeowner</td>\n",
       "      <td>2 Adults No Kids</td>\n",
       "      <td>2</td>\n",
       "      <td>None/Unknown</td>\n",
       "      <td>1</td>\n",
       "    </tr>\n",
       "    <tr>\n",
       "      <th>1</th>\n",
       "      <td>45-54</td>\n",
       "      <td>A</td>\n",
       "      <td>50-74K</td>\n",
       "      <td>Homeowner</td>\n",
       "      <td>2 Adults No Kids</td>\n",
       "      <td>2</td>\n",
       "      <td>None/Unknown</td>\n",
       "      <td>7</td>\n",
       "    </tr>\n",
       "    <tr>\n",
       "      <th>2</th>\n",
       "      <td>25-34</td>\n",
       "      <td>U</td>\n",
       "      <td>25-34K</td>\n",
       "      <td>Unknown</td>\n",
       "      <td>2 Adults Kids</td>\n",
       "      <td>3</td>\n",
       "      <td>1</td>\n",
       "      <td>8</td>\n",
       "    </tr>\n",
       "  </tbody>\n",
       "</table>\n",
       "</div>"
      ],
      "text/plain": [
       "  age_desc marital_status_code income_desc homeowner_desc      hh_comp_desc  \\\n",
       "0      65+                   A      35-49K      Homeowner  2 Adults No Kids   \n",
       "1    45-54                   A      50-74K      Homeowner  2 Adults No Kids   \n",
       "2    25-34                   U      25-34K        Unknown     2 Adults Kids   \n",
       "\n",
       "  household_size_desc kid_category_desc  user_id  \n",
       "0                   2      None/Unknown        1  \n",
       "1                   2      None/Unknown        7  \n",
       "2                   3                 1        8  "
      ]
     },
     "execution_count": 30,
     "metadata": {},
     "output_type": "execute_result"
    }
   ],
   "source": [
    "user_features.head(3)"
   ]
  },
  {
   "cell_type": "code",
   "execution_count": 31,
   "metadata": {},
   "outputs": [
    {
     "data": {
      "text/plain": [
       "(2396804, 12)"
      ]
     },
     "execution_count": 31,
     "metadata": {},
     "output_type": "execute_result"
    }
   ],
   "source": [
    "data.shape"
   ]
  },
  {
   "cell_type": "code",
   "execution_count": 32,
   "metadata": {},
   "outputs": [
    {
     "data": {
      "text/plain": [
       "95"
      ]
     },
     "execution_count": 32,
     "metadata": {},
     "output_type": "execute_result"
    }
   ],
   "source": [
    "data.week_no.nunique()"
   ]
  },
  {
   "cell_type": "markdown",
   "metadata": {},
   "source": [
    "### Preprocessing"
   ]
  },
  {
   "cell_type": "code",
   "execution_count": 33,
   "metadata": {},
   "outputs": [],
   "source": [
    "def get_price(items, item_to_price):\n",
    "    prices = []\n",
    "    for item in items:\n",
    "        price_item = item_to_price[item]\n",
    "        prices.append(price_item)\n",
    "    return prices   "
   ]
  },
  {
   "cell_type": "code",
   "execution_count": 34,
   "metadata": {},
   "outputs": [],
   "source": [
    "data_price = data.groupby('item_id')[['quantity','sales_value']].sum().reset_index()\n",
    "data_price['price'] = data_price['sales_value']/ (np.maximum(data_price['quantity'], 1))\n",
    "item_id_price = data_price.item_id.values\n",
    "price = data_price.price.values\n",
    "item_to_price = dict(zip(item_id_price, price))\n",
    "item_to_price[999999] = 0"
   ]
  },
  {
   "cell_type": "code",
   "execution_count": 35,
   "metadata": {},
   "outputs": [
    {
     "name": "stdout",
     "output_type": "stream",
     "text": [
      "Wall time: 805 ms\n"
     ]
    },
    {
     "data": {
      "text/html": [
       "<div>\n",
       "<style scoped>\n",
       "    .dataframe tbody tr th:only-of-type {\n",
       "        vertical-align: middle;\n",
       "    }\n",
       "\n",
       "    .dataframe tbody tr th {\n",
       "        vertical-align: top;\n",
       "    }\n",
       "\n",
       "    .dataframe thead th {\n",
       "        text-align: right;\n",
       "    }\n",
       "</style>\n",
       "<table border=\"1\" class=\"dataframe\">\n",
       "  <thead>\n",
       "    <tr style=\"text-align: right;\">\n",
       "      <th></th>\n",
       "      <th>user_id</th>\n",
       "      <th>basket_id</th>\n",
       "      <th>day</th>\n",
       "      <th>item_id</th>\n",
       "      <th>quantity</th>\n",
       "      <th>sales_value</th>\n",
       "      <th>store_id</th>\n",
       "      <th>retail_disc</th>\n",
       "      <th>trans_time</th>\n",
       "      <th>week_no</th>\n",
       "      <th>coupon_disc</th>\n",
       "      <th>coupon_match_disc</th>\n",
       "    </tr>\n",
       "  </thead>\n",
       "  <tbody>\n",
       "    <tr>\n",
       "      <th>0</th>\n",
       "      <td>2375</td>\n",
       "      <td>26984851472</td>\n",
       "      <td>1</td>\n",
       "      <td>1004906</td>\n",
       "      <td>1</td>\n",
       "      <td>1.39</td>\n",
       "      <td>364</td>\n",
       "      <td>-0.6</td>\n",
       "      <td>1631</td>\n",
       "      <td>1</td>\n",
       "      <td>0.0</td>\n",
       "      <td>0.0</td>\n",
       "    </tr>\n",
       "    <tr>\n",
       "      <th>1</th>\n",
       "      <td>2375</td>\n",
       "      <td>26984851472</td>\n",
       "      <td>1</td>\n",
       "      <td>1033142</td>\n",
       "      <td>1</td>\n",
       "      <td>0.82</td>\n",
       "      <td>364</td>\n",
       "      <td>0.0</td>\n",
       "      <td>1631</td>\n",
       "      <td>1</td>\n",
       "      <td>0.0</td>\n",
       "      <td>0.0</td>\n",
       "    </tr>\n",
       "  </tbody>\n",
       "</table>\n",
       "</div>"
      ],
      "text/plain": [
       "   user_id    basket_id  day  item_id  quantity  sales_value  store_id  \\\n",
       "0     2375  26984851472    1  1004906         1         1.39       364   \n",
       "1     2375  26984851472    1  1033142         1         0.82       364   \n",
       "\n",
       "   retail_disc  trans_time  week_no  coupon_disc  coupon_match_disc  \n",
       "0         -0.6        1631        1          0.0                0.0  \n",
       "1          0.0        1631        1          0.0                0.0  "
      ]
     },
     "execution_count": 35,
     "metadata": {},
     "output_type": "execute_result"
    }
   ],
   "source": [
    "%%time\n",
    "\n",
    "val_lvl_1_size_weeks = 12\n",
    "val_lvl_2_size_weeks = 6\n",
    "\n",
    "data_train_lvl_1_2 = data[data['week_no'] < data['week_no'].max() - val_lvl_2_size_weeks]\n",
    "\n",
    "data_train_lvl_1 = data[data['week_no'] < data['week_no'].max() - (val_lvl_1_size_weeks + val_lvl_2_size_weeks)]\n",
    "data_val_lvl_1 = data[(data['week_no'] >= data['week_no'].max() - (val_lvl_1_size_weeks + val_lvl_2_size_weeks)) &\n",
    "                      (data['week_no'] < data['week_no'].max() - (val_lvl_2_size_weeks))]\n",
    "\n",
    "data_train_lvl_2 = data_val_lvl_1.copy()\n",
    "data_val_lvl_2 = data[data['week_no'] >= data['week_no'].max() - val_lvl_2_size_weeks]\n",
    "\n",
    "data_train_lvl_1.head(2)"
   ]
  },
  {
   "cell_type": "code",
   "execution_count": 36,
   "metadata": {},
   "outputs": [
    {
     "name": "stdout",
     "output_type": "stream",
     "text": [
      "До фильтрации было 78727 товаров. После - 5001\n",
      "Wall time: 8.55 s\n"
     ]
    }
   ],
   "source": [
    "%%time\n",
    "\n",
    "item_id_before = data_train_lvl_1.item_id.nunique()\n",
    "data_train_lvl_1 = prefilter_items(data_train_lvl_1, item_features)\n",
    "item_id_after = data_train_lvl_1.item_id.nunique()\n",
    "\n",
    "print('До фильтрации было {} товаров. После - {}'.format(item_id_before, item_id_after))"
   ]
  },
  {
   "cell_type": "markdown",
   "metadata": {},
   "source": [
    "### Baseline"
   ]
  },
  {
   "cell_type": "code",
   "execution_count": 37,
   "metadata": {},
   "outputs": [
    {
     "data": {
      "application/vnd.jupyter.widget-view+json": {
       "model_id": "74ae076f93e14020b6a2808a2ff364b7",
       "version_major": 2,
       "version_minor": 0
      },
      "text/plain": [
       "HBox(children=(HTML(value=''), FloatProgress(value=0.0, max=15.0), HTML(value='')))"
      ]
     },
     "metadata": {},
     "output_type": "display_data"
    },
    {
     "name": "stdout",
     "output_type": "stream",
     "text": [
      "\n"
     ]
    },
    {
     "data": {
      "application/vnd.jupyter.widget-view+json": {
       "model_id": "a16445ae924741938c747264cccfc6ec",
       "version_major": 2,
       "version_minor": 0
      },
      "text/plain": [
       "HBox(children=(HTML(value=''), FloatProgress(value=0.0, max=5001.0), HTML(value='')))"
      ]
     },
     "metadata": {},
     "output_type": "display_data"
    },
    {
     "name": "stdout",
     "output_type": "stream",
     "text": [
      "\n"
     ]
    },
    {
     "data": {
      "application/vnd.jupyter.widget-view+json": {
       "model_id": "64625e839bd741128ec667f0fe32c87c",
       "version_major": 2,
       "version_minor": 0
      },
      "text/plain": [
       "HBox(children=(HTML(value=''), FloatProgress(value=0.0, max=5001.0), HTML(value='')))"
      ]
     },
     "metadata": {},
     "output_type": "display_data"
    },
    {
     "name": "stdout",
     "output_type": "stream",
     "text": [
      "\n"
     ]
    },
    {
     "data": {
      "application/vnd.jupyter.widget-view+json": {
       "model_id": "059d38a70d434d5bb5f532b2cae38ed8",
       "version_major": 2,
       "version_minor": 0
      },
      "text/plain": [
       "HBox(children=(HTML(value=''), FloatProgress(value=0.0, max=5001.0), HTML(value='')))"
      ]
     },
     "metadata": {},
     "output_type": "display_data"
    },
    {
     "name": "stdout",
     "output_type": "stream",
     "text": [
      "\n",
      "Wall time: 8.12 s\n"
     ]
    }
   ],
   "source": [
    "%%time\n",
    "\n",
    "recommender = MainRecommender(data_train_lvl_1)"
   ]
  },
  {
   "cell_type": "code",
   "execution_count": 42,
   "metadata": {},
   "outputs": [],
   "source": [
    "def calculate_metrics(model, result_metrics, result, N=5, prefix=''):\n",
    "    pred_funcs = {\n",
    "        'get_als_recommendations':model.get_als_recommendations,\n",
    "        'get_own_recommendations':model.get_own_recommendations,\n",
    "        'get_similar_items_recommendation':model.get_similar_items_recommendation,\n",
    "        'get_similar_users_recommendation':model.get_similar_users_recommendation,\n",
    "        'get_i2i_recommendation': model.get_i2i_recommendation,\n",
    "        'get_cosine_recommendation':model.get_cosine_recommendation\n",
    "           }\n",
    "\n",
    "    for pred_func in pred_funcs:\n",
    "        pred_func_name = pred_func + prefix\n",
    "        price_name = pred_func+'_price'\n",
    "        result[pred_func] = result.user_id.apply(lambda x: pred_funcs[pred_func](x, N=N))\n",
    "        result[price_name] = result.apply(lambda row: get_price(row.get(key=pred_func),item_to_price), axis=1)\n",
    "\n",
    "        prec_at_k = result.apply(lambda row: precision_at_k(row.get(key=pred_func),row.get(key='actual')), axis=1).mean()\n",
    "        money_prec_at_k = result.apply(lambda row: money_precision_at_k(row.get(key=pred_func),row.get(key='actual'), row.get(key=price_name)), axis=1).mean()\n",
    "        rec_at_k = result.apply(lambda row: recall_at_k(row.get(key=pred_func),row.get(key='actual')), axis=1).mean()\n",
    "        money_rec_at_k = result.apply(lambda row: money_recall_at_k(row.get(key=pred_func),row.get(key='actual'), row.get(key='actual_price')), axis=1).mean()\n",
    "\n",
    "        result_metrics = result_metrics.append({\n",
    "        'name':pred_func_name,\n",
    "        'precision_at_k':prec_at_k,\n",
    "        'money_precision_at_k':money_prec_at_k,\n",
    "        'recall_at_k':rec_at_k,\n",
    "        'money_recall_at_k':money_rec_at_k\n",
    "        },ignore_index=True)\n",
    "\n",
    "    \n",
    "    return result_metrics"
   ]
  },
  {
   "cell_type": "code",
   "execution_count": 44,
   "metadata": {},
   "outputs": [
    {
     "data": {
      "text/html": [
       "<div>\n",
       "<style scoped>\n",
       "    .dataframe tbody tr th:only-of-type {\n",
       "        vertical-align: middle;\n",
       "    }\n",
       "\n",
       "    .dataframe tbody tr th {\n",
       "        vertical-align: top;\n",
       "    }\n",
       "\n",
       "    .dataframe thead th {\n",
       "        text-align: right;\n",
       "    }\n",
       "</style>\n",
       "<table border=\"1\" class=\"dataframe\">\n",
       "  <thead>\n",
       "    <tr style=\"text-align: right;\">\n",
       "      <th></th>\n",
       "      <th>user_id</th>\n",
       "      <th>actual</th>\n",
       "      <th>actual_price</th>\n",
       "    </tr>\n",
       "  </thead>\n",
       "  <tbody>\n",
       "    <tr>\n",
       "      <th>0</th>\n",
       "      <td>1</td>\n",
       "      <td>[829323, 835108, 836423, 851515, 875240, 87737...</td>\n",
       "      <td>[2.7616451612903226, 1.94, 3.946176470588235, ...</td>\n",
       "    </tr>\n",
       "    <tr>\n",
       "      <th>1</th>\n",
       "      <td>2</td>\n",
       "      <td>[895388, 8357614, 12301772, 821083, 828106, 83...</td>\n",
       "      <td>[3.246, 3.373333333333333, 3.0, 1.531668508287...</td>\n",
       "    </tr>\n",
       "  </tbody>\n",
       "</table>\n",
       "</div>"
      ],
      "text/plain": [
       "   user_id                                             actual  \\\n",
       "0        1  [829323, 835108, 836423, 851515, 875240, 87737...   \n",
       "1        2  [895388, 8357614, 12301772, 821083, 828106, 83...   \n",
       "\n",
       "                                        actual_price  \n",
       "0  [2.7616451612903226, 1.94, 3.946176470588235, ...  \n",
       "1  [3.246, 3.373333333333333, 3.0, 1.531668508287...  "
      ]
     },
     "execution_count": 44,
     "metadata": {},
     "output_type": "execute_result"
    }
   ],
   "source": [
    "result_lvl_2 = data_val_lvl_2.groupby('user_id')['item_id'].unique().reset_index()\n",
    "result_lvl_2.columns=['user_id', 'actual']\n",
    "result_lvl_2['actual_price'] = result_lvl_2.apply(lambda row: get_price(row.get(key='actual'),item_to_price), axis=1)\n",
    "result_lvl_2.head(2)"
   ]
  },
  {
   "cell_type": "code",
   "execution_count": 45,
   "metadata": {},
   "outputs": [
    {
     "name": "stdout",
     "output_type": "stream",
     "text": [
      "Wall time: 2min 38s\n"
     ]
    }
   ],
   "source": [
    "%%time\n",
    "\n",
    "result_metrics = pd.DataFrame(columns=[\n",
    "    'name',\n",
    "    'precision_at_k',\n",
    "    'money_precision_at_k',\n",
    "    'recall_at_k', \n",
    "    'money_recall_at_k'])\n",
    "\n",
    "result_metrics = calculate_metrics(recommender, result_metrics, result_lvl_2)"
   ]
  },
  {
   "cell_type": "code",
   "execution_count": 46,
   "metadata": {},
   "outputs": [
    {
     "data": {
      "text/html": [
       "<div>\n",
       "<style scoped>\n",
       "    .dataframe tbody tr th:only-of-type {\n",
       "        vertical-align: middle;\n",
       "    }\n",
       "\n",
       "    .dataframe tbody tr th {\n",
       "        vertical-align: top;\n",
       "    }\n",
       "\n",
       "    .dataframe thead th {\n",
       "        text-align: right;\n",
       "    }\n",
       "</style>\n",
       "<table border=\"1\" class=\"dataframe\">\n",
       "  <thead>\n",
       "    <tr style=\"text-align: right;\">\n",
       "      <th></th>\n",
       "      <th>name</th>\n",
       "      <th>precision_at_k</th>\n",
       "      <th>money_precision_at_k</th>\n",
       "      <th>recall_at_k</th>\n",
       "      <th>money_recall_at_k</th>\n",
       "    </tr>\n",
       "  </thead>\n",
       "  <tbody>\n",
       "    <tr>\n",
       "      <th>0</th>\n",
       "      <td>get_als_recommendations</td>\n",
       "      <td>0.146017</td>\n",
       "      <td>0.143078</td>\n",
       "      <td>0.014675</td>\n",
       "      <td>0.020740</td>\n",
       "    </tr>\n",
       "    <tr>\n",
       "      <th>1</th>\n",
       "      <td>get_own_recommendations</td>\n",
       "      <td>0.162130</td>\n",
       "      <td>0.156972</td>\n",
       "      <td>0.014730</td>\n",
       "      <td>0.021621</td>\n",
       "    </tr>\n",
       "    <tr>\n",
       "      <th>2</th>\n",
       "      <td>get_similar_items_recommendation</td>\n",
       "      <td>0.081384</td>\n",
       "      <td>0.093434</td>\n",
       "      <td>0.007334</td>\n",
       "      <td>0.010407</td>\n",
       "    </tr>\n",
       "    <tr>\n",
       "      <th>3</th>\n",
       "      <td>get_similar_users_recommendation</td>\n",
       "      <td>0.004370</td>\n",
       "      <td>0.003526</td>\n",
       "      <td>0.000415</td>\n",
       "      <td>0.000395</td>\n",
       "    </tr>\n",
       "    <tr>\n",
       "      <th>4</th>\n",
       "      <td>get_i2i_recommendation</td>\n",
       "      <td>0.006919</td>\n",
       "      <td>0.006419</td>\n",
       "      <td>0.002333</td>\n",
       "      <td>0.002860</td>\n",
       "    </tr>\n",
       "    <tr>\n",
       "      <th>5</th>\n",
       "      <td>get_cosine_recommendation</td>\n",
       "      <td>0.007101</td>\n",
       "      <td>0.007220</td>\n",
       "      <td>0.000873</td>\n",
       "      <td>0.001448</td>\n",
       "    </tr>\n",
       "  </tbody>\n",
       "</table>\n",
       "</div>"
      ],
      "text/plain": [
       "                               name  precision_at_k  money_precision_at_k  \\\n",
       "0           get_als_recommendations        0.146017              0.143078   \n",
       "1           get_own_recommendations        0.162130              0.156972   \n",
       "2  get_similar_items_recommendation        0.081384              0.093434   \n",
       "3  get_similar_users_recommendation        0.004370              0.003526   \n",
       "4            get_i2i_recommendation        0.006919              0.006419   \n",
       "5         get_cosine_recommendation        0.007101              0.007220   \n",
       "\n",
       "   recall_at_k  money_recall_at_k  \n",
       "0     0.014675           0.020740  \n",
       "1     0.014730           0.021621  \n",
       "2     0.007334           0.010407  \n",
       "3     0.000415           0.000395  \n",
       "4     0.002333           0.002860  \n",
       "5     0.000873           0.001448  "
      ]
     },
     "execution_count": 46,
     "metadata": {},
     "output_type": "execute_result"
    }
   ],
   "source": [
    "result_metrics"
   ]
  },
  {
   "cell_type": "markdown",
   "metadata": {},
   "source": [
    "### 2-х уровневая модель"
   ]
  },
  {
   "cell_type": "code",
   "execution_count": 47,
   "metadata": {},
   "outputs": [
    {
     "data": {
      "text/html": [
       "<div>\n",
       "<style scoped>\n",
       "    .dataframe tbody tr th:only-of-type {\n",
       "        vertical-align: middle;\n",
       "    }\n",
       "\n",
       "    .dataframe tbody tr th {\n",
       "        vertical-align: top;\n",
       "    }\n",
       "\n",
       "    .dataframe thead th {\n",
       "        text-align: right;\n",
       "    }\n",
       "</style>\n",
       "<table border=\"1\" class=\"dataframe\">\n",
       "  <thead>\n",
       "    <tr style=\"text-align: right;\">\n",
       "      <th></th>\n",
       "      <th>user_id</th>\n",
       "      <th>actual</th>\n",
       "      <th>actual_price</th>\n",
       "    </tr>\n",
       "  </thead>\n",
       "  <tbody>\n",
       "    <tr>\n",
       "      <th>0</th>\n",
       "      <td>1</td>\n",
       "      <td>[888104, 913270, 995242, 1088462, 1124029, 557...</td>\n",
       "      <td>[4.990000000000001, 1.0701970443349753, 1.2125...</td>\n",
       "    </tr>\n",
       "    <tr>\n",
       "      <th>1</th>\n",
       "      <td>2</td>\n",
       "      <td>[825343, 826784, 833598, 858091, 885023, 88951...</td>\n",
       "      <td>[6.772787524366472, 1.321129943502825, 4.093, ...</td>\n",
       "    </tr>\n",
       "  </tbody>\n",
       "</table>\n",
       "</div>"
      ],
      "text/plain": [
       "   user_id                                             actual  \\\n",
       "0        1  [888104, 913270, 995242, 1088462, 1124029, 557...   \n",
       "1        2  [825343, 826784, 833598, 858091, 885023, 88951...   \n",
       "\n",
       "                                        actual_price  \n",
       "0  [4.990000000000001, 1.0701970443349753, 1.2125...  \n",
       "1  [6.772787524366472, 1.321129943502825, 4.093, ...  "
      ]
     },
     "execution_count": 47,
     "metadata": {},
     "output_type": "execute_result"
    }
   ],
   "source": [
    "result_lvl_1 = data_val_lvl_1.groupby('user_id')['item_id'].unique().reset_index()\n",
    "result_lvl_1.columns=['user_id', 'actual']\n",
    "result_lvl_1['actual_price'] = result_lvl_1.apply(lambda row: get_price(row.get(key='actual'),item_to_price), axis=1)\n",
    "result_lvl_1.head(2)"
   ]
  },
  {
   "cell_type": "code",
   "execution_count": 48,
   "metadata": {},
   "outputs": [
    {
     "name": "stdout",
     "output_type": "stream",
     "text": [
      "Wall time: 13min 5s\n"
     ]
    }
   ],
   "source": [
    "%%time\n",
    "\n",
    "result_metrics = calculate_metrics(recommender, result_metrics, result_lvl_1, N=50, prefix='_cand50')"
   ]
  },
  {
   "cell_type": "code",
   "execution_count": 49,
   "metadata": {},
   "outputs": [
    {
     "data": {
      "text/html": [
       "<div>\n",
       "<style scoped>\n",
       "    .dataframe tbody tr th:only-of-type {\n",
       "        vertical-align: middle;\n",
       "    }\n",
       "\n",
       "    .dataframe tbody tr th {\n",
       "        vertical-align: top;\n",
       "    }\n",
       "\n",
       "    .dataframe thead th {\n",
       "        text-align: right;\n",
       "    }\n",
       "</style>\n",
       "<table border=\"1\" class=\"dataframe\">\n",
       "  <thead>\n",
       "    <tr style=\"text-align: right;\">\n",
       "      <th></th>\n",
       "      <th>name</th>\n",
       "      <th>precision_at_k</th>\n",
       "      <th>money_precision_at_k</th>\n",
       "      <th>recall_at_k</th>\n",
       "      <th>money_recall_at_k</th>\n",
       "    </tr>\n",
       "  </thead>\n",
       "  <tbody>\n",
       "    <tr>\n",
       "      <th>0</th>\n",
       "      <td>get_als_recommendations</td>\n",
       "      <td>0.146017</td>\n",
       "      <td>0.143078</td>\n",
       "      <td>0.014675</td>\n",
       "      <td>0.020740</td>\n",
       "    </tr>\n",
       "    <tr>\n",
       "      <th>1</th>\n",
       "      <td>get_own_recommendations</td>\n",
       "      <td>0.162130</td>\n",
       "      <td>0.156972</td>\n",
       "      <td>0.014730</td>\n",
       "      <td>0.021621</td>\n",
       "    </tr>\n",
       "    <tr>\n",
       "      <th>2</th>\n",
       "      <td>get_similar_items_recommendation</td>\n",
       "      <td>0.081384</td>\n",
       "      <td>0.093434</td>\n",
       "      <td>0.007334</td>\n",
       "      <td>0.010407</td>\n",
       "    </tr>\n",
       "    <tr>\n",
       "      <th>3</th>\n",
       "      <td>get_similar_users_recommendation</td>\n",
       "      <td>0.004370</td>\n",
       "      <td>0.003526</td>\n",
       "      <td>0.000415</td>\n",
       "      <td>0.000395</td>\n",
       "    </tr>\n",
       "    <tr>\n",
       "      <th>4</th>\n",
       "      <td>get_i2i_recommendation</td>\n",
       "      <td>0.006919</td>\n",
       "      <td>0.006419</td>\n",
       "      <td>0.002333</td>\n",
       "      <td>0.002860</td>\n",
       "    </tr>\n",
       "    <tr>\n",
       "      <th>5</th>\n",
       "      <td>get_cosine_recommendation</td>\n",
       "      <td>0.007101</td>\n",
       "      <td>0.007220</td>\n",
       "      <td>0.000873</td>\n",
       "      <td>0.001448</td>\n",
       "    </tr>\n",
       "    <tr>\n",
       "      <th>6</th>\n",
       "      <td>get_als_recommendations_cand50</td>\n",
       "      <td>0.201991</td>\n",
       "      <td>0.198811</td>\n",
       "      <td>0.013732</td>\n",
       "      <td>0.019724</td>\n",
       "    </tr>\n",
       "    <tr>\n",
       "      <th>7</th>\n",
       "      <td>get_own_recommendations_cand50</td>\n",
       "      <td>0.219481</td>\n",
       "      <td>0.211983</td>\n",
       "      <td>0.013165</td>\n",
       "      <td>0.019646</td>\n",
       "    </tr>\n",
       "    <tr>\n",
       "      <th>8</th>\n",
       "      <td>get_similar_items_recommendation_cand50</td>\n",
       "      <td>0.114372</td>\n",
       "      <td>0.133950</td>\n",
       "      <td>0.007666</td>\n",
       "      <td>0.010597</td>\n",
       "    </tr>\n",
       "    <tr>\n",
       "      <th>9</th>\n",
       "      <td>get_similar_users_recommendation_cand50</td>\n",
       "      <td>0.005628</td>\n",
       "      <td>0.005173</td>\n",
       "      <td>0.000287</td>\n",
       "      <td>0.000400</td>\n",
       "    </tr>\n",
       "    <tr>\n",
       "      <th>10</th>\n",
       "      <td>get_i2i_recommendation_cand50</td>\n",
       "      <td>0.008745</td>\n",
       "      <td>0.009147</td>\n",
       "      <td>0.001655</td>\n",
       "      <td>0.002225</td>\n",
       "    </tr>\n",
       "    <tr>\n",
       "      <th>11</th>\n",
       "      <td>get_cosine_recommendation_cand50</td>\n",
       "      <td>0.008398</td>\n",
       "      <td>0.007772</td>\n",
       "      <td>0.000454</td>\n",
       "      <td>0.000673</td>\n",
       "    </tr>\n",
       "  </tbody>\n",
       "</table>\n",
       "</div>"
      ],
      "text/plain": [
       "                                       name  precision_at_k  \\\n",
       "0                   get_als_recommendations        0.146017   \n",
       "1                   get_own_recommendations        0.162130   \n",
       "2          get_similar_items_recommendation        0.081384   \n",
       "3          get_similar_users_recommendation        0.004370   \n",
       "4                    get_i2i_recommendation        0.006919   \n",
       "5                 get_cosine_recommendation        0.007101   \n",
       "6            get_als_recommendations_cand50        0.201991   \n",
       "7            get_own_recommendations_cand50        0.219481   \n",
       "8   get_similar_items_recommendation_cand50        0.114372   \n",
       "9   get_similar_users_recommendation_cand50        0.005628   \n",
       "10            get_i2i_recommendation_cand50        0.008745   \n",
       "11         get_cosine_recommendation_cand50        0.008398   \n",
       "\n",
       "    money_precision_at_k  recall_at_k  money_recall_at_k  \n",
       "0               0.143078     0.014675           0.020740  \n",
       "1               0.156972     0.014730           0.021621  \n",
       "2               0.093434     0.007334           0.010407  \n",
       "3               0.003526     0.000415           0.000395  \n",
       "4               0.006419     0.002333           0.002860  \n",
       "5               0.007220     0.000873           0.001448  \n",
       "6               0.198811     0.013732           0.019724  \n",
       "7               0.211983     0.013165           0.019646  \n",
       "8               0.133950     0.007666           0.010597  \n",
       "9               0.005173     0.000287           0.000400  \n",
       "10              0.009147     0.001655           0.002225  \n",
       "11              0.007772     0.000454           0.000673  "
      ]
     },
     "execution_count": 49,
     "metadata": {},
     "output_type": "execute_result"
    }
   ],
   "source": [
    "result_metrics"
   ]
  },
  {
   "cell_type": "code",
   "execution_count": 50,
   "metadata": {},
   "outputs": [],
   "source": [
    "def get_candidates(data_train_lvl_1, data_train_lvl_2, model, cand_type, client_type, N=50):\n",
    "    users_lvl_2 = pd.DataFrame(data_train_lvl_2['user_id'].unique())\n",
    "    users_lvl_2.columns = ['user_id']\n",
    "\n",
    "    #Если client_type='warm', то предсказываем только для клиентов, которые совершили покупку в первом тренировочном множестве.\n",
    "    train_users = data_train_lvl_1['user_id'].unique()\n",
    "    if client_type=='warm':\n",
    "        users_lvl_2 = users_lvl_2[users_lvl_2['user_id'].isin(train_users)]\n",
    "    elif client_type=='cold':\n",
    "        users_lvl_2 = users_lvl_2[~users_lvl_2['user_id'].isin(train_users)]\n",
    "        \n",
    "    #Предсказываем кандидатов\n",
    "    if cand_type=='als':\n",
    "        cand_model_name = 'candidates_' + cand_type\n",
    "        users_lvl_2[cand_model_name] = users_lvl_2['user_id'].apply(lambda x: model.get_als_recommendations(x, N=N))\n",
    "    elif cand_type=='own_rec':\n",
    "        cand_model_name = 'candidates_' + cand_type\n",
    "        users_lvl_2[cand_model_name] = users_lvl_2['user_id'].apply(lambda x: model.get_own_recommendations(x, N=N))\n",
    "    \n",
    "    #Преобразуем списки кандидатов в датафрейм user_id-item_id\n",
    "    s = users_lvl_2.apply(lambda x: pd.Series(x[cand_model_name]), axis=1).stack().reset_index(level=1, drop=True)\n",
    "    s.name = 'item_id'\n",
    "\n",
    "    users_lvl_2 = users_lvl_2.drop(cand_model_name, axis=1).join(s)\n",
    "    targets_lvl_2 = data_train_lvl_2[['user_id', 'item_id']].copy()\n",
    "    targets_lvl_2['target'] = 1  # тут только покупки \n",
    "    \n",
    "    #Добавляем предсказанных кандидатов к второму тренировочному датасету\n",
    "    targets_lvl_2 = users_lvl_2.merge(targets_lvl_2, on=['user_id', 'item_id'], how='left')\n",
    "    targets_lvl_2['target'].fillna(0, inplace= True)\n",
    "    \n",
    "    return targets_lvl_2, cand_model_name"
   ]
  },
  {
   "cell_type": "code",
   "execution_count": 51,
   "metadata": {},
   "outputs": [],
   "source": [
    "targets_lvl_2, model_name = get_candidates(data_train_lvl_1, data_train_lvl_2, model=recommender, cand_type='als', client_type='warm')\n",
    "targets_lvl_2 = targets_lvl_2.merge(item_features, on='item_id', how='left')\n",
    "targets_lvl_2 = targets_lvl_2.merge(user_features, on='user_id', how='left')"
   ]
  },
  {
   "cell_type": "code",
   "execution_count": 52,
   "metadata": {},
   "outputs": [],
   "source": [
    "result_lvl_2 = data_val_lvl_2.groupby('user_id')['item_id'].unique().reset_index()\n",
    "result_lvl_2.columns=['user_id', 'actual']\n",
    "#result_lvl_2['actual_price'] = result_lvl_2.apply(lambda row: get_price(row.get(key='actual'),item_to_price), axis=1)"
   ]
  },
  {
   "cell_type": "code",
   "execution_count": 53,
   "metadata": {},
   "outputs": [],
   "source": [
    "def plotImp(model, X , fig_size = (40, 20)):\n",
    "    feature_imp = pd.DataFrame(sorted(zip(model.feature_importances_,X.columns)), columns=['Value','Feature'])\n",
    "\n",
    "    plt.figure(figsize=fig_size)\n",
    "    sns.barplot(x=\"Value\", y=\"Feature\", data=feature_imp.sort_values(by=\"Value\", ascending=False))\n",
    "    plt.title('LightGBM Features (avg over folds)')\n",
    "    plt.tight_layout()\n",
    "    plt.show()\n",
    "    plt.savefig('lgbm_importances-01.png')"
   ]
  },
  {
   "cell_type": "code",
   "execution_count": 76,
   "metadata": {},
   "outputs": [],
   "source": [
    "def get_precision_lvl_2(targets_lvl_2, result_lvl_2, model_name,feat_imp_graph=False):\n",
    "    X_train = targets_lvl_2.drop('target', axis=1)\n",
    "    y_train = targets_lvl_2[['target']]\n",
    "    cat_feats = X_train.columns[2:15].tolist()\n",
    "    X_train[cat_feats] = X_train[cat_feats].astype('category')\n",
    "\n",
    "    lgb = LGBMClassifier(objective='binary', max_depth=50,num_iterations=100,learning_rate=0.3, categorical_column=cat_feats)\n",
    "    lgb.fit(X_train, y_train)\n",
    "\n",
    "    train_preds = lgb.predict_proba(X_train)\n",
    "    X_train['target'] = train_preds[:,1]\n",
    "    X_train.drop_duplicates(inplace=True)\n",
    "\n",
    "    result = X_train.sort_values(by=['user_id','target'], ascending=[True, False])\n",
    "    result = result.groupby('user_id').head(5).groupby('user_id').item_id.unique().reset_index(name=model_name)\n",
    "\n",
    "    result = result_lvl_2.merge(result, on='user_id', how='left')\n",
    "    prec_at_5 = result.apply(lambda row: precision_at_k(row.get(key=model_name),row.get(key='actual')), axis=1).mean()\n",
    "\n",
    "    if feat_imp_graph:\n",
    "        plotImp(lgb, X_train, fig_size = (40, 20))\n",
    "\n",
    "    return prec_at_5\n"
   ]
  },
  {
   "cell_type": "code",
   "execution_count": 55,
   "metadata": {},
   "outputs": [
    {
     "name": "stderr",
     "output_type": "stream",
     "text": [
      "C:\\Users\\Nikita\\anaconda3\\lib\\site-packages\\sklearn\\utils\\validation.py:72: DataConversionWarning: A column-vector y was passed when a 1d array was expected. Please change the shape of y to (n_samples, ), for example using ravel().\n",
      "  return f(**kwargs)\n",
      "C:\\Users\\Nikita\\anaconda3\\lib\\site-packages\\lightgbm\\engine.py:148: UserWarning: Found `num_iterations` in params. Will use it instead of argument\n",
      "  _log_warning(\"Found `{}` in params. Will use it instead of argument\".format(alias))\n",
      "C:\\Users\\Nikita\\anaconda3\\lib\\site-packages\\lightgbm\\basic.py:1245: UserWarning: categorical_column in param dict is overridden.\n",
      "  _log_warning('{} in param dict is overridden.'.format(cat_alias))\n"
     ]
    },
    {
     "name": "stdout",
     "output_type": "stream",
     "text": [
      "22.229601518026364\n"
     ]
    }
   ],
   "source": [
    "prec_at_5 = get_precision_lvl_2(targets_lvl_2, result_lvl_2, model_name)\n",
    "print(prec_at_5*100)"
   ]
  },
  {
   "cell_type": "code",
   "execution_count": 56,
   "metadata": {},
   "outputs": [],
   "source": [
    "# for n in [40, 50 ,60, 100]:\n",
    "#     for cand_type in ['als', 'own_rec']:\n",
    "#         for client_type in ['warm', 'cold']:\n",
    "#             target, model_name = get_candidates(data_train_lvl_1, data_train_lvl_2, model=recommender, cand_type=cand_type, client_type=client_type, N=n)\n",
    "#             prec_at_5 = get_precision_lvl_2(target, result_lvl_2, model_name)\n",
    "#             print(\"n={} cand_type={} client_type={} prec_at_5={}\".format(n,cand_type,client_type, round(prec_at_5*100,2)))"
   ]
  },
  {
   "cell_type": "markdown",
   "metadata": {},
   "source": [
    "### Feature engineering"
   ]
  },
  {
   "cell_type": "code",
   "execution_count": 57,
   "metadata": {},
   "outputs": [],
   "source": [
    "data_train_lvl_2 = data_train_lvl_2.merge(item_features, on='item_id', how='left')\n",
    "data_train_lvl_2 = data_train_lvl_2.merge(user_features, on='user_id', how='left')"
   ]
  },
  {
   "cell_type": "markdown",
   "metadata": {},
   "source": [
    "##### Фичи юзеров"
   ]
  },
  {
   "cell_type": "code",
   "execution_count": 58,
   "metadata": {},
   "outputs": [],
   "source": [
    "#Средний чек для каждого пользователя\n",
    "avg_user_price = data_train_lvl_2.groupby('user_id').apply(lambda x: np.mean(x.sales_value*x.quantity)).reset_index(name='avg_price_user')\n",
    "targets_lvl_2 = targets_lvl_2.merge(avg_user_price, on='user_id')\n",
    "\n",
    "#Средняя цена одного купленного товара\n",
    "avg_one_q = (data_train_lvl_2.groupby('user_id').apply(lambda x: x.sales_value.sum()/x.quantity.sum())).reset_index(name='avg_price_user_one_q')\n",
    "targets_lvl_2 = targets_lvl_2.merge(avg_one_q, on='user_id')\n",
    "\n",
    "#Средняя цена одной покупки (набора товаров)\n",
    "avg_one_b = (data_train_lvl_2.groupby('user_id').apply(lambda x: x.sales_value.sum()/x.basket_id.nunique())).reset_index(name='avg_price_user_one_b')\n",
    "targets_lvl_2 = targets_lvl_2.merge(avg_one_b, on='user_id')\n",
    "\n",
    "#Число купленных товаров\n",
    "sum_user_q = data_train_lvl_2.groupby('user_id').quantity.sum().reset_index(name='sum_user_q')\n",
    "targets_lvl_2 = targets_lvl_2.merge(sum_user_q, on='user_id')\n",
    "\n",
    "#Среднее количество дней между покупками\n",
    "day_mean = (data_train_lvl_2.groupby('user_id').week_no.unique().apply(lambda x: (np.sum(x[1:])-np.sum(x[:-1]))/(len(x)-1))).reset_index(name='day_mean')\n",
    "targets_lvl_2 = targets_lvl_2.merge(day_mean, on='user_id')\n",
    "\n",
    "#Количество уникальных покупок юзеров по категориям\n",
    "department_count = data_train_lvl_2.groupby(['user_id','department']).item_id.nunique().reset_index(name='dep_user_count')\n",
    "targets_lvl_2 = targets_lvl_2.merge(department_count, on=['user_id','department'])\n",
    "\n",
    "#Доля покупок со скидкой. Скидкой считаю, если цена за продукт минимальна и уникальных цен по товару >1.\n",
    "min_price = data_train_lvl_2.groupby('item_id')['sales_value'].agg(min_price=np.min, un_count=lambda x: x.nunique()).reset_index()\n",
    "data_train_lvl_2_with_min_price = data_train_lvl_2.merge(min_price, on='item_id',how='left')\n",
    "data_train_lvl_2_with_min_price['if_sale'] = np.where((data_train_lvl_2_with_min_price.sales_value==data_train_lvl_2_with_min_price.min_price)&(data_train_lvl_2_with_min_price.un_count>1),1,0)\n",
    "data_train_lvl_2_with_min_price = data_train_lvl_2_with_min_price.groupby('user_id').if_sale.sum()/data_train_lvl_2_with_min_price.groupby('user_id').if_sale.count()\n",
    "data_train_lvl_2_with_min_price = data_train_lvl_2_with_min_price.reset_index(name='sale')\n",
    "targets_lvl_2 = targets_lvl_2.merge(data_train_lvl_2_with_min_price, on='user_id')\n",
    "\n",
    "#mean / max / std кол-ва уникальных товаров в корзине клиента\n",
    "un_pr_b = data_train_lvl_2.groupby(['user_id','basket_id']).item_id.nunique().reset_index()\\\n",
    "    .groupby('user_id').item_id.agg(mean_p=np.mean, max_p=np.max, std_p=np.std)\n",
    "targets_lvl_2 = targets_lvl_2.merge(un_pr_b, on='user_id')\n",
    "\n",
    "#mean / max / std кол-ва уникальных категорий в корзине клиента\n",
    "un_pr_d = data_train_lvl_2.groupby(['user_id','basket_id']).department.nunique().reset_index()\\\n",
    "    .groupby('user_id').department.agg(mean_d=np.mean, max_d=np.max, std_d=np.std).reset_index()\n",
    "targets_lvl_2 = targets_lvl_2.merge(un_pr_d, on='user_id')"
   ]
  },
  {
   "cell_type": "markdown",
   "metadata": {},
   "source": [
    "##### Фичи товаров"
   ]
  },
  {
   "cell_type": "code",
   "execution_count": 59,
   "metadata": {},
   "outputs": [],
   "source": [
    "# Цена товара\n",
    "price = data_train_lvl_2.groupby('item_id').sales_value.mean().reset_index(name='price')\n",
    "targets_lvl_2 = targets_lvl_2.merge(price, on='item_id')\n",
    "\n",
    "#Количество магазинов, в которых продается товар\n",
    "shop_count=data_train_lvl_2.groupby('item_id').store_id.nunique().reset_index(name='shop_count')\n",
    "targets_lvl_2 = targets_lvl_2.merge(shop_count, on='item_id')\n",
    "\n",
    "#Кол-во покупок каждого товара в неделю\n",
    "avg_q_per_week = (data_train_lvl_2.groupby('item_id').quantity.sum() / data_train_lvl_2.week_no.nunique()).reset_index(name='avg_q_per_week')\n",
    "targets_lvl_2 = targets_lvl_2.merge(avg_q_per_week, on='item_id')\n",
    "\n",
    "#Среднее кол-во покупок каждой категории товара в неделю\n",
    "avg_d_q_per_week = (data_train_lvl_2.groupby('department').quantity.sum() / data_train_lvl_2.week_no.nunique()).reset_index(name='avg_d_q_per_week')\n",
    "targets_lvl_2 = targets_lvl_2.merge(avg_d_q_per_week, on='department')\n",
    "\n",
    "#Средняя сумма покупок каждой категории товара в неделю\n",
    "avg_d_p_per_week = (data_train_lvl_2.groupby('department').sales_value.sum() / data_train_lvl_2.week_no.nunique()).reset_index(name='avg_d_p_per_week')\n",
    "targets_lvl_2 = targets_lvl_2.merge(avg_d_p_per_week, on='department')\n",
    "\n",
    "#Средняя сумма покупки товара в категории\n",
    "dep_avg_price = data_train_lvl_2.groupby('department').sales_value.mean().reset_index(name='dep_avg_price')\n",
    "targets_lvl_2 = targets_lvl_2.merge(dep_avg_price, on='department')\n",
    "\n",
    "#Кол-во покупок юзером конкретной категории в неделю\n",
    "d_cnt_week =data_train_lvl_2.groupby(['item_id','department']).quantity.sum().reset_index(name='d_cnt_week')\n",
    "targets_lvl_2 = targets_lvl_2.merge(d_cnt_week, on=['item_id','department'])"
   ]
  },
  {
   "cell_type": "markdown",
   "metadata": {},
   "source": [
    "##### Фичи пар user-item"
   ]
  },
  {
   "cell_type": "code",
   "execution_count": 60,
   "metadata": {},
   "outputs": [],
   "source": [
    "#(Кол-во покупок в неделю) / (Среднее кол-во покупок 1 товара в категории в неделю)\n",
    "targets_lvl_2['f1']= targets_lvl_2['avg_q_per_week']/ targets_lvl_2['avg_d_q_per_week']\n",
    "\n",
    "#(Кол-во покупок в неделю) - (Среднее кол-во покупок 1 товара в категории в неделю)\n",
    "targets_lvl_2['f3']= targets_lvl_2['avg_q_per_week']-targets_lvl_2['avg_d_q_per_week']\n",
    "\n",
    "#Средняя сумма покупки товара в категории / Цена\n",
    "targets_lvl_2['f3']= targets_lvl_2['avg_d_p_per_week']/targets_lvl_2['price']\n",
    "\n",
    "#Средняя сумма покупки товара в категории - Цена\n",
    "targets_lvl_2['f4']= targets_lvl_2['avg_d_p_per_week']-targets_lvl_2['price']\n",
    "\n",
    "#Кол-во покупок юзером конкретной категории в неделю / Среднее кол-во покупок всеми юзерами конкретной категории в неделю\n",
    "targets_lvl_2['f5']= targets_lvl_2['d_cnt_week']/targets_lvl_2['avg_d_q_per_week']\n",
    "\n",
    "#Кол-во покупок юзером конкретной категории в неделю - Среднее кол-во покупок всеми юзерами конкретной категории в неделю\n",
    "targets_lvl_2['f6']= targets_lvl_2['d_cnt_week']/targets_lvl_2['avg_d_q_per_week']"
   ]
  },
  {
   "cell_type": "code",
   "execution_count": 61,
   "metadata": {},
   "outputs": [
    {
     "data": {
      "text/plain": [
       "Index(['user_id', 'item_id', 'target', 'manufacturer', 'department', 'brand',\n",
       "       'commodity_desc', 'sub_commodity_desc', 'curr_size_of_product',\n",
       "       'age_desc', 'marital_status_code', 'income_desc', 'homeowner_desc',\n",
       "       'hh_comp_desc', 'household_size_desc', 'kid_category_desc',\n",
       "       'avg_price_user', 'avg_price_user_one_q', 'avg_price_user_one_b',\n",
       "       'sum_user_q', 'day_mean', 'dep_user_count', 'sale', 'mean_p', 'max_p',\n",
       "       'std_p', 'mean_d', 'max_d', 'std_d', 'price', 'shop_count',\n",
       "       'avg_q_per_week', 'avg_d_q_per_week', 'avg_d_p_per_week',\n",
       "       'dep_avg_price', 'd_cnt_week', 'f1', 'f3', 'f4', 'f5', 'f6'],\n",
       "      dtype='object')"
      ]
     },
     "execution_count": 61,
     "metadata": {},
     "output_type": "execute_result"
    }
   ],
   "source": [
    "targets_lvl_2.columns"
   ]
  },
  {
   "cell_type": "code",
   "execution_count": 77,
   "metadata": {},
   "outputs": [
    {
     "name": "stderr",
     "output_type": "stream",
     "text": [
      "C:\\Users\\Nikita\\anaconda3\\lib\\site-packages\\sklearn\\utils\\validation.py:72: DataConversionWarning: A column-vector y was passed when a 1d array was expected. Please change the shape of y to (n_samples, ), for example using ravel().\n",
      "  return f(**kwargs)\n",
      "C:\\Users\\Nikita\\anaconda3\\lib\\site-packages\\lightgbm\\engine.py:148: UserWarning: Found `num_iterations` in params. Will use it instead of argument\n",
      "  _log_warning(\"Found `{}` in params. Will use it instead of argument\".format(alias))\n",
      "C:\\Users\\Nikita\\anaconda3\\lib\\site-packages\\lightgbm\\basic.py:1245: UserWarning: categorical_column in param dict is overridden.\n",
      "  _log_warning('{} in param dict is overridden.'.format(cat_alias))\n"
     ]
    },
    {
     "data": {
      "image/png": "[encoded data removed]",
      "text/plain": [
       "<Figure size 2880x1440 with 1 Axes>"
      ]
     },
     "metadata": {
      "needs_background": "light"
     },
     "output_type": "display_data"
    },
    {
     "name": "stdout",
     "output_type": "stream",
     "text": [
      "26.706330318895645\n"
     ]
    },
    {
     "data": {
      "text/plain": [
       "<Figure size 432x288 with 0 Axes>"
      ]
     },
     "metadata": {},
     "output_type": "display_data"
    }
   ],
   "source": [
    "prec_at_5 = get_precision_lvl_2(targets_lvl_2, result_lvl_2, model_name, feat_imp_graph=True)\n",
    "print(prec_at_5*100)"
   ]
  },
  {
   "cell_type": "code",
   "execution_count": 78,
   "metadata": {},
   "outputs": [
    {
     "name": "stderr",
     "output_type": "stream",
     "text": [
      "C:\\Users\\Nikita\\anaconda3\\lib\\site-packages\\sklearn\\utils\\validation.py:72: DataConversionWarning: A column-vector y was passed when a 1d array was expected. Please change the shape of y to (n_samples, ), for example using ravel().\n",
      "  return f(**kwargs)\n",
      "C:\\Users\\Nikita\\anaconda3\\lib\\site-packages\\lightgbm\\engine.py:148: UserWarning: Found `num_iterations` in params. Will use it instead of argument\n",
      "  _log_warning(\"Found `{}` in params. Will use it instead of argument\".format(alias))\n",
      "C:\\Users\\Nikita\\anaconda3\\lib\\site-packages\\lightgbm\\basic.py:1245: UserWarning: categorical_column in param dict is overridden.\n",
      "  _log_warning('{} in param dict is overridden.'.format(cat_alias))\n"
     ]
    },
    {
     "data": {
      "image/png": "[encoded data removed]",
      "text/plain": [
       "<Figure size 2880x1440 with 1 Axes>"
      ]
     },
     "metadata": {
      "needs_background": "light"
     },
     "output_type": "display_data"
    },
    {
     "name": "stdout",
     "output_type": "stream",
     "text": [
      "26.925273679200295\n"
     ]
    },
    {
     "data": {
      "text/plain": [
       "<Figure size 432x288 with 0 Axes>"
      ]
     },
     "metadata": {},
     "output_type": "display_data"
    }
   ],
   "source": [
    "user_item_matrix = pd.pivot_table(data_train_lvl_2,\n",
    "                                          index='user_id', columns='item_id',\n",
    "                                          values='quantity',\n",
    "                                          aggfunc='sum',\n",
    "                                          fill_value=0\n",
    "                                         )\n",
    "n=10\n",
    "pca = PCA(n_components=n)\n",
    "columns = ['pca_%i' % i for i in range(n)]\n",
    "df_pca = pd.DataFrame(pca.fit_transform(user_item_matrix), columns=columns, index=user_item_matrix.index)\n",
    "targets_lvl_2 = targets_lvl_2.merge(df_pca, on='user_id', how='left')\n",
    "prec_at_5 = get_precision_lvl_2(targets_lvl_2, result_lvl_2, model_name, feat_imp_graph=True)\n",
    "print(prec_at_5*100)"
   ]
  },
  {
   "cell_type": "code",
   "execution_count": null,
   "metadata": {},
   "outputs": [],
   "source": []
  }
 ],
 "metadata": {
  "kernelspec": {
   "display_name": "Python 3",
   "language": "python",
   "name": "python3"
  },
  "language_info": {
   "codemirror_mode": {
    "name": "ipython",
    "version": 3
   },
   "file_extension": ".py",
   "mimetype": "text/x-python",
   "name": "python",
   "nbconvert_exporter": "python",
   "pygments_lexer": "ipython3",
   "version": "3.8.5"
  }
 },
 "nbformat": 4,
 "nbformat_minor": 4
}
