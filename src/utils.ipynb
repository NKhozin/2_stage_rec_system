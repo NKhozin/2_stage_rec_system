{
 "cells": [
  {
   "cell_type": "code",
   "execution_count": 1,
   "metadata": {},
   "outputs": [],
   "source": [
    "import pandas as pd\n",
    "import numpy as np"
   ]
  },
  {
   "cell_type": "code",
   "execution_count": 1,
   "metadata": {},
   "outputs": [],
   "source": [
    "def prefilter_items(data, item_features=None, take_n_popular=5000):\n",
    "    # Уберем самые популярные товары\n",
    "    popularity = data.groupby('item_id')['user_id'].nunique().reset_index() / data['user_id'].nunique()\n",
    "    popularity.rename(columns={'user_id':'share_unique_users'}, inplace=True)\n",
    "    pop_item = popularity[popularity.share_unique_users>0.2].item_id.tolist()\n",
    "\n",
    "    data = data[~data.isin(pop_item)]\n",
    "    \n",
    "    # Уберем самые НЕ популярные товары\n",
    "    not_pop_item = popularity[popularity.share_unique_users<0.2].item_id.tolist()\n",
    "    data = data[~data.isin(not_pop_item)]\n",
    "    \n",
    "    # Уберем товары, которые не продавались за последние N месяцев\n",
    "    month_count = 12\n",
    "    not_buy_days_filter = int(data.day.max() - month_count*30)\n",
    "    data[data.day>=not_buy_days_filter]\n",
    "    \n",
    "    # Уберем не интересные для рекоммендаций категории\n",
    "    if item_features is not None:\n",
    "        category_count_items = item_features.groupby('department').item_id.nunique().reset_index(name='count_item')\n",
    "        not_pop_cat = category_count_items[category_count_items.count_item<150].department.to_list()\n",
    "        not_pop_cat_items = item_features[item_features.department.isin(not_pop_cat)].item_id.to_list()\n",
    "        data[~data.item_id.isin(not_pop_cat_items)]\n",
    "    \n",
    "    # Уберем слишком дешевые товары\n",
    "    data['price'] = data['sales_value'] / (np.maximum(data['quantity'], 1))\n",
    "    min_price = 2\n",
    "    data = data[data.price>min_price]\n",
    "    \n",
    "    # Уберем слишком дорогие товары\n",
    "    max_price = 50\n",
    "    data = data[data.price<max_price]\n",
    "    \n",
    "    #Возьмем только топ N популярных товаров\n",
    "    popularity = data.groupby('item_id').quantity.sum().reset_index()\n",
    "    top_popular = popularity.sort_values(by='quantity', ascending=False).head(take_n_popular).item_id.to_list()\n",
    "    #заведем фиктивный товар, которым заменим все остальные товары не из топ-N\n",
    "    data.loc[~data['item_id'].isin(top_popular), 'item_id'] = 999999\n",
    "    \n",
    "    return data"
   ]
  },
  {
   "cell_type": "code",
   "execution_count": null,
   "metadata": {},
   "outputs": [],
   "source": []
  }
 ],
 "metadata": {
  "kernelspec": {
   "display_name": "Python 3",
   "language": "python",
   "name": "python3"
  },
  "language_info": {
   "codemirror_mode": {
    "name": "ipython",
    "version": 3
   },
   "file_extension": ".py",
   "mimetype": "text/x-python",
   "name": "python",
   "nbconvert_exporter": "python",
   "pygments_lexer": "ipython3",
   "version": "3.8.5"
  }
 },
 "nbformat": 4,
 "nbformat_minor": 4
}
